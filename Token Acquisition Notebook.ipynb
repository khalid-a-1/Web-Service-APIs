{
 "cells": [
  {
   "cell_type": "markdown",
   "metadata": {},
   "source": [
    "# CS 181 - Final Project: Web Service API's \n",
    "## Token Acquisition Notebook\n",
    "\n",
    "Authors: Lucas Tran & Amna Khalid\n",
    "\n",
    "Date: 12/16/2019"
   ]
  },
  {
   "cell_type": "markdown",
   "metadata": {},
   "source": [
    "### Note: Do not run this notebook since you do not have the first authorization"
   ]
  },
  {
   "cell_type": "code",
   "execution_count": 1,
   "metadata": {},
   "outputs": [],
   "source": [
    "import json\n",
    "import requests"
   ]
  },
  {
   "cell_type": "code",
   "execution_count": 2,
   "metadata": {},
   "outputs": [],
   "source": [
    "#load in the json file that has users' data\n",
    "with open(\"spotify.json\", \"r\") as file:\n",
    "    creds = json.load(file)"
   ]
  },
  {
   "cell_type": "code",
   "execution_count": 3,
   "metadata": {},
   "outputs": [],
   "source": [
    "def authoURL():\n",
    "    '''\n",
    "    Paramters: none\n",
    "    Purpose: this function creates a authorization url. Using this url, people can sign in \n",
    "             and grant access to their spotify data\n",
    "    Return: p.url - the authorization url\n",
    "    '''\n",
    "    #create an authorization url\n",
    "    protocol = \"https\"\n",
    "    location = \"accounts.spotify.com\"\n",
    "    auth_resource = \"/authorize\"\n",
    "    authurl_fmt = \"{}://{}{}\"\n",
    "    authurl = authurl_fmt.format(protocol, location, auth_resource)\n",
    "\n",
    "    #create a url query using information of main user from the json file\n",
    "    urlquery = {}\n",
    "    urlquery['client_id'] = creds['spotify']['appid']\n",
    "    urlquery['redirect_uri'] = creds['spotify']['redirect_uri']\n",
    "    urlquery['response_type'] = 'code'\n",
    "    urlquery['state'] = '1234567890'\n",
    "    urlquery['scope'] = \"user-follow-read user-top-read user-read-recently-played user-library-read\"\n",
    "    urlquery\n",
    "    \n",
    "    #sending get request to get one token\n",
    "    session = requests.Session()\n",
    "    p = requests.Request('GET', authurl, params=urlquery).prepare()\n",
    "    \n",
    "    return p.url"
   ]
  },
  {
   "cell_type": "code",
   "execution_count": 4,
   "metadata": {},
   "outputs": [],
   "source": [
    "def getInitialTokens(code):\n",
    "    '''\n",
    "    Paramters: code - the access code from the url\n",
    "    Purpose: perform a post request using the code from above url to get the access token and the refresh token\n",
    "             scope decides what data we get from this post request\n",
    "    Return: resp.json() - json file that contains access token and refresh token\n",
    "    '''\n",
    "    #perform a post request using the code from above url to get the access token and the refresh token\n",
    "    #scope decides what data we get from this post request\n",
    "    url = 'https://accounts.spotify.com/api/token'\n",
    "    bodyparams = {'client_id':'9e6455bc1d7d454b9e16ba1001252001',\n",
    "                  'client_secret':'f6eb1de058334c249f98b2df14a09833',\n",
    "                  'grant_type': 'authorization_code', \n",
    "                  'code': code,\n",
    "                  'redirect_uri':'https://localhost/callback/',\n",
    "                  'scope': 'user-follow-read user-top-read user-read-recently-played user-library-read'}\n",
    "    bodyparams['code'] = code\n",
    "    resp = requests.post(url, data=bodyparams)\n",
    "    return resp.json()"
   ]
  },
  {
   "cell_type": "code",
   "execution_count": 5,
   "metadata": {},
   "outputs": [],
   "source": [
    "def getNewAccess():\n",
    "    \n",
    "    '''\n",
    "    Paramters: none\n",
    "    Purpose: this functions get the updated version of access token \n",
    "    using the refresh token given by the above function\n",
    "    Return: \n",
    "        - username: username list\n",
    "        - access: access token list\n",
    "    '''\n",
    "    \n",
    "    refresh = []\n",
    "    username = []\n",
    "    url1 = 'https://accounts.spotify.com/api/token'\n",
    "    access = [] #create a blank list to store the new access token \n",
    "    for item in creds['spotify']['users']:\n",
    "        refresh.append(creds['spotify']['users'][item]['refresh_token'])\n",
    "        username.append(item)\n",
    "\n",
    "    #create a generalize body parameters with refresh token left blank so we can use it \n",
    "    #over and over again\n",
    "    bodyparams = {'client_id':'9e6455bc1d7d454b9e16ba1001252001',\n",
    "                  'client_secret':'f6eb1de058334c249f98b2df14a09833',\n",
    "                  'grant_type': 'refresh_token', \n",
    "                  'refresh_token': '',\n",
    "                  'redirect_uri':'https://localhost/callback/',\n",
    "                  'scope': 'user-follow-read user-top-read user-read-recently-played user-library-read'}\n",
    "    #using the refresh token from the json file, get the access token and append that acces token to access list\n",
    "    for item in refresh:\n",
    "        bodyparams['refresh_token'] = item\n",
    "        resp = requests.post(url1, data=bodyparams)\n",
    "        access.append(resp.json()['access_token'])\n",
    "    return username, access"
   ]
  },
  {
   "cell_type": "code",
   "execution_count": 6,
   "metadata": {},
   "outputs": [],
   "source": [
    "def main():\n",
    "    '''\n",
    "    Parameters: none\n",
    "    Purpose: call all the functions above \n",
    "    Return: none\n",
    "    '''\n",
    "    url = authoURL()\n",
    "    print(\"Authorization url:\",url)\n",
    "    \n",
    "    #the code is outdated so this will return invalid grant if you run it\n",
    "    #gets first token\n",
    "    code = 'AQCDMNqaQ4wwOjFdN-oQKib7hjKupi86v4NEgUKMlqy5nnh5VwZUOnPQoswAwcJSFcx_RZCUVZDCNKoP_kvi1RGRrYgIhiQFNOnFXwMLaPf-cEB3C_Esx7Mm6X0_LvRw3tM4CaqMWDF-hrSaNfWtWZDAArQAoFenmKI-I1yRVnt_q3oxGfycfUTB-xYaKK3GS8Y9w8eeqfZo0zf_a0z4IwlornenMAmxh7vD-OAeQVrD9wEOMSCnC23dLzKw5ncrGoMb5G8PPwklcZ6wTZ9WtSIh-no8KmAcy3vBgixrSpw'\n",
    "    resp = getInitialTokens(code)\n",
    "    print (\"Initial access token and refresh token:\",resp)\n",
    "    \n",
    "    username, access = getNewAccess()\n",
    "    print(\"List of username:\",username)\n",
    "    print(\"List of access token:\",access)"
   ]
  },
  {
   "cell_type": "code",
   "execution_count": 7,
   "metadata": {},
   "outputs": [
    {
     "name": "stdout",
     "output_type": "stream",
     "text": [
      "Authorization url: https://accounts.spotify.com/authorize?client_id=9e6455bc1d7d454b9e16ba1001252001&redirect_uri=https%3A%2F%2Flocalhost%2Fcallback%2F&response_type=code&state=1234567890&scope=user-follow-read+user-top-read+user-read-recently-played+user-library-read\n",
      "Initial access token and refresh token: {'access_token': 'BQCixJZMBtEwj1hEjKpk7OvfotiK0pKfPhs49HTlozqBy1Zfnpw30FRc171BsLG0NNuLmX6FhjIhO47WbuEau-PWryDAXtVkWUxDDdttG6Y-k3EwHLDC3UcuzQkqJv_O_NwJypHCKnwnSXelcqsyhYmUM0SrllRuXKUF3FekZAFtDcBLtrNPX_P4wiYQmg', 'token_type': 'Bearer', 'expires_in': 3600, 'refresh_token': 'AQDoXw5x9MTvcIF3CzHjcFRkQrkk7AfrAKAaK206ySHnRtCa7f4vh462INxpEHL6_ivxUJY9B6a2pmZoliiazNg_tnQ6wl7EnE3ndaeWBdJw5lKmo629DAvLxlLMchZeJ1c', 'scope': 'user-library-read user-follow-read user-read-recently-played user-top-read'}\n",
      "List of username: ['kelly', 'giorgi', 'liam', 'issac', 'brandon', 'jessie', 'tess', 'justin', 'olivia', 'devan', 'diamond', 'Ziang', 'Jessica', 'Amna', 'Katie']\n",
      "List of access token: ['BQBKa5H68KqEN5dUhuQBy48MYX5wifY_c1myTBUQS6F3M02ZzvqvTe1m6TFw7axOwkG21kI8u6QX0jh71AlX-zG1J4K3DNQan18fzuxmq_QaJvm3GFF5mUbj-RTiBAKD08Mfi_xxcjf9hZzig6MXxbGaLtGfrpIYVQKdP61raK1H9gQp5bH-Tqd98w', 'BQAr8WZfQ3AsLuymbi_VWMI_mU74LntYaZsoq07HlxRsQywpHno0F-dTXr_OBZMO4pAUXlXV8R2aqHAKv-z9WD-iMv32bazxKcrny6vlwz-eQLCG93kWYSr6SB0fFbYOjrgVR_70ithjIAassEBZ3GYvnzHogwqMQPPI9JUhDVBIKtl5-yiHwLIucg', 'BQCb91ZbOiRcNQhAdxMlEuRvq3-o6ONyyJRfYlCynjUNMDpVGtpIf1QW-6ktmdjNqshcgQRegSnqFBHv3cdYq4Ifw5DAfKWxQEtchg2AL8iPjPmncy4A5NcicMhSPP0mO5CE9nNay1Fbcy56l-OBDJH6RzeZ9pLO9cHit-PE', 'BQDELlORPZi_Gcb7p5bcB-NloeLSSy2Q1kmwR8sQjcf_fTvu9TGm-3g6yBnh1AJIJi8Rs1OAgpRcfDUo-vHKbZUCyLD_eop3wQgNPw83NSJLUZJOG9ni6lJaLdnhv1XvvVGaTPrIqfvxFFg4yzjvvhHs79zi9ddeqhs3NHe3gunUoMrrJr9qv-0LhJIcNw', 'BQB5ZWMbvKJlIymzY9urrHwO5r4gfMLF2BCXeI2O40nWohOqoDtVZIbw5XEYjwrVLBlXLhZXHhZBgmKwz_h90j_Go3fl5InU8rVwo3SIc_osEOAk-P4lcfjUL5ebLijo8njSfYknevdn1D0-V4VMpoWJMj2md8c3pxasALDrEWvZ3dz9S8H9Plf4Nw', 'BQA8p947OH9ojZn8TFC0FDluq51ZRnrJ36ttSMTTVnv_QL0HpGyJIfposRTA3ZIE4XghUm5cs1hnyGgRXpRpfgPpzq4Et0zsSXvJiMUezPaes819P0vk9Kt_lVhZ2VFTdv_eCSQd_1KxF7nxFIOEi6bVFHnNtNv-IA', 'BQBBUgl-GnfLvHW2qc51xiHCKfmKDiANz89n6Ty1fp6dkbJeGzdMpSNQOco6hrI8K0lC_D_7-csSN4-_Hvq7xAzIVwR6Lj5fveift6ZRyeeHRN3p0ZVwciVIbh1fH6mhDzasD1m_8kOdBR7bIwLJA9MD2D6dFXtqMY5-FacDVg', 'BQDwLQdekZT3_wX0lYiTla9LLOISf-5H9iaqXiiarzwr3ymH9Lw-lrXhstnrSjkWyraZplR_SwjMzWt6g1n1mTvb4o6O7GZ0_Cnv8vSVHezH7PEJkPcbwL-_oqFCQX9tEHtx2-Koq0MiQdGqi3zLHphXWtt3BQh4iQp_m0QT', 'BQC9PWeYEkc9EZhlg8Att5bEsYIpNTNh6F3XFJMbl-ES1h7uC4U0UpUKt8yx-yVMmlWw2AycsDngZgA_kTAG8gUzn_cqUaS2CwsdHk3BgZMxtv6KKGY_lkHyr5NjLqQrGQJnTz9nqXOnJvQymQ7jm-iVqFUBf8uGSEurbQ', 'BQDgsD--wrPb9mUjtz44gQhCS3HlmwTmDFcG5bFUhnFpQx40G7BGyKsdieLy-znkXD4tTsrK5H7jBRNpfi57sD2zXH3Ojz4h2q3ekjWQwjRj1YIUYA40DuqZYPaRPPigBEfOwI2eYt6D1ODJQ8kJd3h7LvFoCFsGnARpAWyq9vHkuzo8K5Cd8cUovQ', 'BQD1iecYLL4VEaTu_aRHkxTs4l6SBVHMcYBNasrcmd2k4W2oQ8-niR9w26DCF6XxQIV2hqLnmDGrpWrf3sDrHchPzx6wTSQciVXZxJ2_JezCvJvn7KMUdF5czRoth1WKUn1exGzAAfV1kDnR30epbUfzc7w6PSp0WNQL0c5HUVv9lvI6X8FeaqyLNvVopw', 'BQAGl-sdmLze-1QFnsrzlyPBdf0MSPCZXYUZy82yylpQEmFUiR-_taFj8B3zTCvKh6Tbou3TjkSG8T-5kEZXLMtH6QeuyoTKJHfrqGPFM62fzUPkWsqL0jOBNJLJeUeNVPhaJXhCSlqJRzv2VlCuuleITUM34wYay4DM2krtoGI', 'BQA5iMo06E-keR9P9WOucsh92dzRd-ivhBLK_6-KnMkgPTzFnOn0H_WW4bzVK_uOUsBpou89LlIxWiJM6PkZWdqGRt2Su-75jxsSyH_Eng38buIBSCL-_t34vU6zZzAbLY1B3E0reljt-9e3k8w6QU5r2ppoTCbA-FIy3Z_q8AU', 'BQC7a7EsRq7pRjOVmYDgxizSeO5K6ti5nvNkyAr0xsnoFwDk3RxoLo4maYrfSiXr0c8BS1hKs4SQpsJ-zfx-blNivJ8cNhUIlox-cBQTBfZrc_muFDAjY-ThAXwAJNkI0G1zPCFPWr5mDZ6FY6RBhh2vGHltbYPoWxf_cbtdzSF9Hy4kL5P826TOD9RTSA', 'BQApup9hwVR2c0f8K1vnV5E-BgHpFXwqGC9p2sRC0DCjAdSP_svz8SMOeCN6HCH9fHU3uaBqwE9wOGuyv0A1UYMr_UUB33u4W1Nv99EklSrSO3mdtx3-xfrzMrCureyC3aSIpssBCQpc_Ew_mZdo-7MIT4bikfxVgje7Ug']\n"
     ]
    }
   ],
   "source": [
    "main()"
   ]
  },
  {
   "cell_type": "code",
   "execution_count": null,
   "metadata": {},
   "outputs": [],
   "source": []
  }
 ],
 "metadata": {
  "kernelspec": {
   "display_name": "Python 3",
   "language": "python",
   "name": "python3"
  },
  "language_info": {
   "codemirror_mode": {
    "name": "ipython",
    "version": 3
   },
   "file_extension": ".py",
   "mimetype": "text/x-python",
   "name": "python",
   "nbconvert_exporter": "python",
   "pygments_lexer": "ipython3",
   "version": "3.7.3"
  }
 },
 "nbformat": 4,
 "nbformat_minor": 2
}
